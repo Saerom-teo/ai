{
 "cells": [
  {
   "cell_type": "code",
   "execution_count": 10,
   "metadata": {},
   "outputs": [],
   "source": [
    "import json\n",
    "import cv2\n",
    "import os"
   ]
  },
  {
   "cell_type": "code",
   "execution_count": 2,
   "metadata": {},
   "outputs": [],
   "source": [
    "def extract_points_from_file(file_path):\n",
    "    with open(file_path, 'r', encoding='utf-8') as file:\n",
    "        data = json.load(file)\n",
    "    \n",
    "    points_list = []\n",
    "    for annotation in data.get(\"ANNOTATION_INFO\", []):\n",
    "        points = annotation.get(\"POINTS\", [])\n",
    "        points_list.extend(points)\n",
    "    return points_list[0]"
   ]
  },
  {
   "cell_type": "code",
   "execution_count": 6,
   "metadata": {},
   "outputs": [],
   "source": [
    "def draw_rectangle(image_path, points, output_path):\n",
    "    # 이미지 읽기\n",
    "    image = cv2.imread(image_path)\n",
    "    \n",
    "    if image is None:\n",
    "        print(f\"Error: Could not open or find the image '{image_path}'\")\n",
    "        return\n",
    "    \n",
    "    # 두 점 추출\n",
    "    x, y, w, h = points\n",
    "    \n",
    "    # 사각형 그리기 (BGR 형식의 빨간색, 두께는 2)\n",
    "    cv2.rectangle(image, (int(x), int(y)), (int(x+w), int(y+h)), (0, 0, 255), 2)\n",
    "\n",
    "    # cv2.circle(image, (int(x1), int(y1)), 15, (255, 0, 0), -1)\n",
    "    # cv2.circle(image, (int(x2), int(y2)), 15, (255, 0, 0), -1)\n",
    "    \n",
    "    # 결과 이미지 저장\n",
    "    cv2.imwrite(output_path, image)\n",
    "    print(f\"Image saved with rectangle at '{output_path}'\")"
   ]
  },
  {
   "cell_type": "code",
   "execution_count": 26,
   "metadata": {},
   "outputs": [
    {
     "name": "stdout",
     "output_type": "stream",
     "text": [
      "[1231.7987590243902, 437.5032585365853, 342.96107707317105, 227.87346731707322]\n"
     ]
    }
   ],
   "source": [
    "# JSON 파일 경로\n",
    "file_path = '842244@0_01001_220907_P1_T3__0712.json'\n",
    "\n",
    "# 함수 호출\n",
    "points = extract_points_from_file(file_path)\n",
    "print(points)"
   ]
  },
  {
   "cell_type": "code",
   "execution_count": 4,
   "metadata": {},
   "outputs": [],
   "source": [
    "name = \"5767@5_01001_220713_P1_T1\"\n",
    "# name = \"842244@0_01001_220907_P1_T3__0712\"\n"
   ]
  },
  {
   "cell_type": "code",
   "execution_count": 7,
   "metadata": {},
   "outputs": [
    {
     "name": "stdout",
     "output_type": "stream",
     "text": [
      "[1472.0776984227123, 646.4028555205043, 800.2059305993698, 1220.8109902334384]\n",
      "Image saved with rectangle at 'data/5767@5_01001_220713_P1_T1.jpg'\n"
     ]
    }
   ],
   "source": [
    "# name = \"842244@0_01001_220907_P1_T3__0712\"\n",
    "label_path = f'data/{name}.json'\n",
    "image_path = f'data/{name}.jpg'\n",
    "\n",
    "points = extract_points_from_file(label_path)\n",
    "print(points)\n",
    "output_path = image_path\n",
    "\n",
    "draw_rectangle(image_path, points, output_path)"
   ]
  },
  {
   "cell_type": "code",
   "execution_count": 9,
   "metadata": {},
   "outputs": [
    {
     "name": "stdout",
     "output_type": "stream",
     "text": [
      "1010653@0_01001_220906_P1_T3__0163.jpg\n",
      "image_path: 재활용품 분류 및 선별 데이터/images/VS_1.영상추출_01.금속캔_001.철캔/1010653@0_01001_220906_P1_T3__0163.jpg\n",
      "label_path: 재활용품 분류 및 선별 데이터/labels/VL_1.영상추출_01.금속캔_001.철캔/1010653@0_01001_220906_P1_T3__0163.json\n",
      "[543.8764634674759, 190.1558558403485, 155.0563600795233, 158.9821836978132]\n",
      "Error: Could not open or find the image '재활용품 분류 및 선별 데이터/images/VS_1.영상추출_01.금속캔_001.철캔/1010653@0_01001_220906_P1_T3__0163.jpg'\n"
     ]
    }
   ],
   "source": [
    "\n",
    "\n",
    "def make_path(i: int, s: str):\n",
    "    return f\"재활용품 분류 및 선별 데이터/{data_types[i]}/VS_1.영상추출_01.금속캔_001.철캔\"\n",
    "def make_path2(i: int, s: str):\n",
    "    return f\"재활용품 분류 및 선별 데이터/{data_types[i]}/VL_1.영상추출_01.금속캔_001.철캔\"\n",
    "\n",
    "data_types = [\"images\", \"labels\"]\n",
    "# path = f\"232.재활용품 분류 및 선별 데이터/{data_types[0]}/VS_1.영상추출_01.금속캔_001.철캔\"\n",
    "file_list = os.listdir(make_path(0, \"S\"))\n",
    "\n",
    "name = os.path.splitext(file_list[0])[0]\n",
    "print(file_list[0])\n",
    "\n",
    "image_path = f'{make_path(0, \"S\")}/{file_list[0]}'\n",
    "label_path = f'{make_path2(1, \"L\")}/{name}.json'\n",
    "print(\"image_path: \" + image_path)\n",
    "print(\"label_path: \" + label_path)\n",
    "\n",
    "\"재활용품 분류 및 선별 데이터\\images\\VS_1.영상추출_01.금속캔_001.철캔\"\n",
    "points = extract_points_from_file(label_path)\n",
    "print(points)\n",
    "output_path = 'output_image.jpg'\n",
    "\n",
    "draw_rectangle(image_path, points, output_path)"
   ]
  },
  {
   "cell_type": "code",
   "execution_count": 20,
   "metadata": {},
   "outputs": [
    {
     "name": "stdout",
     "output_type": "stream",
     "text": [
      "[[[127 141 153]\n",
      "  [127 141 153]\n",
      "  [127 141 153]\n",
      "  ...\n",
      "  [163 163 163]\n",
      "  [165 165 165]\n",
      "  [167 167 167]]\n",
      "\n",
      " [[139 153 165]\n",
      "  [143 157 169]\n",
      "  [141 155 167]\n",
      "  ...\n",
      "  [155 155 155]\n",
      "  [151 151 151]\n",
      "  [153 153 153]]\n",
      "\n",
      " [[141 155 167]\n",
      "  [148 162 174]\n",
      "  [151 165 177]\n",
      "  ...\n",
      "  [122 121 123]\n",
      "  [127 126 128]\n",
      "  [137 136 138]]\n",
      "\n",
      " ...\n",
      "\n",
      " [[ 81  93 103]\n",
      "  [ 74  86  96]\n",
      "  [ 56  66  76]\n",
      "  ...\n",
      "  [101 104 109]\n",
      "  [ 74  74  80]\n",
      "  [ 62  62  68]]\n",
      "\n",
      " [[ 72  85  93]\n",
      "  [ 61  74  82]\n",
      "  [ 41  52  60]\n",
      "  ...\n",
      "  [138 141 146]\n",
      "  [118 121 126]\n",
      "  [ 95  98 103]]\n",
      "\n",
      " [[ 69  82  90]\n",
      "  [ 56  69  77]\n",
      "  [ 26  37  45]\n",
      "  ...\n",
      "  [152 155 160]\n",
      "  [149 152 157]\n",
      "  [145 148 153]]]\n"
     ]
    }
   ],
   "source": [
    "# name = \"recyclables/images/VS_1.영상추출_01.금속캔_001.철캔/1010653@0_01001_220906_P1_T3__0163.jpg\"\n",
    "# name = \"recyclables/images/image_01_금속캔_001_철캔/5767@5_01001_220713_P1_T1.jpg\"\n",
    "name = \"recyclables/images/image_02_paper_001_paper/7861@2_02001_220722_P1_T1.jpg\"\n",
    "image = cv2.imread(name)\n",
    "print(image)"
   ]
  },
  {
   "cell_type": "code",
   "execution_count": 16,
   "metadata": {},
   "outputs": [
    {
     "name": "stdout",
     "output_type": "stream",
     "text": [
      "['image_08_건전지_001_건전지', 'image_09_형광등_001_형광등', 'video_01_금속캔_001_철캔', 'video_01_금속캔_002_알루미늄캔', 'video_02_종이_001_종이', 'video_03_페트병_001_무색단일', 'video_03_페트병_002_유색단일', 'video_04_플라스틱_001_PE', 'video_04_플라스틱_002_PP', 'video_04_플라스틱_003_PS', 'video_05_스티로폼_001_스티로폼', 'video_06_비닐_001_비닐', 'video_07_유리병_001_갈색', 'video_07_유리병_002_녹색', 'video_07_유리병_003_투명', 'image_01_금속캔_001_철캔', 'image_01_금속캔_002_알루미늄캔', 'image_02_종이_001_종이', 'image_03_페트병_001_무색단일', 'image_03_페트병_002_유색단일', 'image_04_플라스틱_001_PE', 'image_04_플라스틱_002_PP', 'image_04_플라스틱_003_PS', 'image_05_스티로폼_001_스티로폼', 'image_06_비닐_001_비닐', 'image_07_유리병_001_갈색', 'image_07_유리병_002_녹색', 'image_07_유리병_003_투명', 'video_test_001']\n",
      "image_08_건전지_001_건전지 : image_08_battery_001_battery\n",
      "image_09_형광등_001_형광등 : image_09_Fluorescent_lamp_001_Fluorescent_lamp\n",
      "video_01_금속캔_001_철캔 : video_01_can_001_철캔\n",
      "video_01_금속캔_002_알루미늄캔 : video_01_can_002_알루미늄캔\n",
      "video_02_종이_001_종이 : video_02_paper_001_paper\n",
      "video_03_페트병_001_무색단일 : video_03_pet_001_무색단일\n",
      "video_03_페트병_002_유색단일 : video_03_pet_002_유색단일\n",
      "video_04_플라스틱_001_PE : video_04_plastic_001_PE\n",
      "video_04_플라스틱_002_PP : video_04_plastic_002_PP\n",
      "video_04_플라스틱_003_PS : video_04_plastic_003_PS\n",
      "video_05_스티로폼_001_스티로폼 : video_05_styrofoam_001_styrofoam\n",
      "video_06_비닐_001_비닐 : video_06_vinyl_001_vinyl\n",
      "video_07_유리병_001_갈색 : video_07_glass_bottle_001_갈색\n",
      "video_07_유리병_002_녹색 : video_07_glass_bottle_002_녹색\n",
      "video_07_유리병_003_투명 : video_07_glass_bottle_003_투명\n",
      "image_01_금속캔_001_철캔 : image_01_can_001_철캔\n",
      "image_01_금속캔_002_알루미늄캔 : image_01_can_002_알루미늄캔\n",
      "image_02_종이_001_종이 : image_02_paper_001_paper\n",
      "image_03_페트병_001_무색단일 : image_03_pet_001_무색단일\n",
      "image_03_페트병_002_유색단일 : image_03_pet_002_유색단일\n",
      "image_04_플라스틱_001_PE : image_04_plastic_001_PE\n",
      "image_04_플라스틱_002_PP : image_04_plastic_002_PP\n",
      "image_04_플라스틱_003_PS : image_04_plastic_003_PS\n",
      "image_05_스티로폼_001_스티로폼 : image_05_styrofoam_001_styrofoam\n",
      "image_06_비닐_001_비닐 : image_06_vinyl_001_vinyl\n",
      "image_07_유리병_001_갈색 : image_07_glass_bottle_001_갈색\n",
      "image_07_유리병_002_녹색 : image_07_glass_bottle_002_녹색\n",
      "image_07_유리병_003_투명 : image_07_glass_bottle_003_투명\n",
      "video_test_001 : video_test_001\n"
     ]
    }
   ],
   "source": [
    "path = \"recyclables/images/\"\n",
    "file_list = os.listdir(path)\n",
    "print(file_list)\n",
    "\n",
    "dic = {\"금속캔\":\"can\", \"종이\":\"paper\", \"페트병\": \"pet\", \"플라스틱\":\"plastic\", \"스티로폼\":\"styrofoam\", \"비닐\":\"vinyl\",\"유리병\":\"glass_bottle\",\"건전지\":\"battery\", \"형광등\":\"Fluorescent_lamp\"}\n",
    "\n",
    "\n",
    "\n",
    "for file_name in file_list:\n",
    "    new_file_name = file_name.replace(\"VS_2.\", \"\").replace(\"VS_1.\", \"\").replace(\"영상추출\", \"video\").replace(\"직접촬영\", \"image\").replace(\".\", \"_\")\n",
    "    for key, value in dic.items():\n",
    "        new_file_name = new_file_name.replace(key, value)\n",
    "    print(file_name+\" : \"+ new_file_name)\n",
    "    os.rename(path + file_name, path + new_file_name)\n",
    "    "
   ]
  },
  {
   "cell_type": "code",
   "execution_count": 28,
   "metadata": {},
   "outputs": [
    {
     "name": "stdout",
     "output_type": "stream",
     "text": [
      "['VL_2.직접촬영_07.유리병_002.녹색', 'VL_2.직접촬영_07.유리병_003.투명', 'VL_2.직접촬영_08.건전지_001.건전지', 'VL_2.직접촬영_09.형광등_001.형광등', 'VL_1.영상추출_01.금속캔_001.철캔', 'VL_1.영상추출_01.금속캔_002.알루미늄캔', 'VL_1.영상추출_02.종이_001.종이', 'VL_1.영상추출_03.페트병_001.무색단일', 'VL_1.영상추출_03.페트병_002.유색단일', 'VL_1.영상추출_04.플라스틱_001.PE', 'VL_1.영상추출_04.플라스틱_002.PP', 'VL_1.영상추출_04.플라스틱_003.PS', 'VL_1.영상추출_05.스티로폼_001.스티로폼', 'VL_1.영상추출_06.비닐_001.비닐', 'VL_1.영상추출_07.유리병_001.갈색', 'VL_1.영상추출_07.유리병_002.녹색', 'VL_1.영상추출_07.유리병_003.투명', 'VL_2.직접촬영_01.금속캔_001.철캔', 'VL_2.직접촬영_01.금속캔_002.알루미늄캔', 'VL_2.직접촬영_02.종이_001.종이', 'VL_2.직접촬영_03.페트병_001.무색단일', 'VL_2.직접촬영_03.페트병_002.유색단일', 'VL_2.직접촬영_04.플라스틱_001.PE', 'VL_2.직접촬영_04.플라스틱_002.PP', 'VL_2.직접촬영_04.플라스틱_003.PS', 'VL_2.직접촬영_05.스티로폼_001.스티로폼', 'VL_2.직접촬영_06.비닐_001.비닐', 'VL_2.직접촬영_07.유리병_001.갈색']\n",
      "00\n",
      "VL_2.직접촬영_07.유리병_002.녹색\n",
      "01\n",
      "VL_2.직접촬영_07.유리병_003.투명\n",
      "02\n",
      "VL_2.직접촬영_08.건전지_001.건전지\n",
      "03\n",
      "VL_2.직접촬영_09.형광등_001.형광등\n",
      "04\n",
      "VL_1.영상추출_01.금속캔_001.철캔\n",
      "05\n",
      "VL_1.영상추출_01.금속캔_002.알루미늄캔\n",
      "06\n",
      "VL_1.영상추출_02.종이_001.종이\n",
      "07\n",
      "VL_1.영상추출_03.페트병_001.무색단일\n",
      "08\n",
      "VL_1.영상추출_03.페트병_002.유색단일\n",
      "09\n",
      "VL_1.영상추출_04.플라스틱_001.PE\n",
      "10\n",
      "VL_1.영상추출_04.플라스틱_002.PP\n",
      "11\n",
      "VL_1.영상추출_04.플라스틱_003.PS\n",
      "12\n",
      "VL_1.영상추출_05.스티로폼_001.스티로폼\n",
      "13\n",
      "VL_1.영상추출_06.비닐_001.비닐\n",
      "14\n",
      "VL_1.영상추출_07.유리병_001.갈색\n",
      "15\n",
      "VL_1.영상추출_07.유리병_002.녹색\n",
      "16\n",
      "VL_1.영상추출_07.유리병_003.투명\n",
      "17\n",
      "VL_2.직접촬영_01.금속캔_001.철캔\n",
      "18\n",
      "VL_2.직접촬영_01.금속캔_002.알루미늄캔\n",
      "19\n",
      "VL_2.직접촬영_02.종이_001.종이\n",
      "20\n",
      "VL_2.직접촬영_03.페트병_001.무색단일\n",
      "21\n",
      "VL_2.직접촬영_03.페트병_002.유색단일\n",
      "22\n",
      "VL_2.직접촬영_04.플라스틱_001.PE\n",
      "23\n",
      "VL_2.직접촬영_04.플라스틱_002.PP\n",
      "24\n",
      "VL_2.직접촬영_04.플라스틱_003.PS\n",
      "25\n",
      "VL_2.직접촬영_05.스티로폼_001.스티로폼\n",
      "26\n",
      "VL_2.직접촬영_06.비닐_001.비닐\n",
      "27\n",
      "VL_2.직접촬영_07.유리병_001.갈색\n"
     ]
    }
   ],
   "source": [
    "path = \"recyclables_origin/labels/\"\n",
    "file_list = os.listdir(path)\n",
    "print(file_list)\n",
    "\n",
    "for idx, file_name in enumerate(file_list):\n",
    "    a = str(idx).zfill(2)\n",
    "    print(a)\n",
    "    print(file_name)\n",
    "    os.rename(path + file_name, path + f\"images{a}\")"
   ]
  }
 ],
 "metadata": {
  "kernelspec": {
   "display_name": "yolo",
   "language": "python",
   "name": "python3"
  },
  "language_info": {
   "codemirror_mode": {
    "name": "ipython",
    "version": 3
   },
   "file_extension": ".py",
   "mimetype": "text/x-python",
   "name": "python",
   "nbconvert_exporter": "python",
   "pygments_lexer": "ipython3",
   "version": "3.10.14"
  }
 },
 "nbformat": 4,
 "nbformat_minor": 2
}
